{
 "cells": [
  {
   "cell_type": "code",
   "execution_count": null,
   "metadata": {},
   "outputs": [],
   "source": [
    "from pyspark.sql.functions import col"
   ]
  },
  {
   "cell_type": "code",
   "execution_count": null,
   "metadata": {},
   "outputs": [],
   "source": [
    "# DF 1\n",
    "emp = [(1,\"Smith\",-1,\"2018\",\"10\",\"M\",3000), \\\n",
    "       (2,\"Rose\",1,\"2010\",\"20\",\"M\",4000), \\\n",
    "       (3,\"Williams\",1,\"2010\",\"10\",\"M\",1000), \\\n",
    "       (4,\"Jones\",2,\"2005\",\"10\",\"F\",2000), \\\n",
    "       (5,\"Brown\",2,\"2010\",\"40\",\"\",-1), \\\n",
    "       (6,\"Brown\",2,\"2010\",\"50\",\"\",-1) \\\n",
    "\n",
    "]\n",
    "\n",
    "columns = [\"emp_id\",\"name\",\"superior_emp_id\",\"year_joined\", \"emp_dept_id\",\"gender\",\"salary\"]\n",
    "\n",
    "empDF = spark.createDataFrame(data=emp, schema = columns)\n",
    "empDF.printSchema()\n",
    "empDF.show(truncate=False)\n",
    "\n",
    "# | ---------------------------------------------------------------------------------------------|\n",
    "\n",
    "# DF 2\n",
    "dept = [(\"Finance\",10), \\\n",
    "    (\"Marketing\",20), \\\n",
    "    (\"Sales\",30), \\\n",
    "    (\"IT\",40) \\\n",
    "  ]\n",
    "deptColumns = [\"dept_name\",\"dept_id\"]\n",
    "deptDF = spark.createDataFrame(data=dept, schema = deptColumns)\n",
    "deptDF.printSchema()\n",
    "deptDF.show(truncate=False)"
   ]
  },
  {
   "cell_type": "code",
   "execution_count": null,
   "metadata": {},
   "outputs": [],
   "source": [
    "empDF.join(deptDF, empDF.emp_dept_id == depDF.dept_id, \"inner\")"
   ]
  },
  {
   "cell_type": "code",
   "execution_count": null,
   "metadata": {},
   "outputs": [],
   "source": [
    "empDF.join(depDF, empDF.emp_dep_id == depDF.dept_id, \"outer\")\n",
    "empDF.join(depDF, empDF.emp_dep_id == depDF.dept_id, \"full\")\n",
    "empDF.join(depDF, empDF.emp_dep_id == depDF.dept_id, \"fullouter\")"
   ]
  },
  {
   "cell_type": "code",
   "execution_count": null,
   "metadata": {},
   "outputs": [],
   "source": [
    "empDF.alias('emp1').join(depDF.alias('emp2'), col('emp1.emp_id' ==  col('emp2.emp_id'), \"inner\")\\\n",
    "                   .select(col(\"emp1.emp_id\"),\n",
    "                           col(\"emp1.name\"),\n",
    "                           col(\"emp2.emp_id\").alias(\"superior_emp_id\"),\n",
    "                           col(\"emp2.name\").alias(\"superior_emp_name\")\n",
    "                           )      "
   ]
  }
 ],
 "metadata": {
  "kernelspec": {
   "display_name": "Python 3",
   "language": "python",
   "name": "python3"
  },
  "language_info": {
   "codemirror_mode": {
    "name": "ipython",
    "version": 3
   },
   "file_extension": ".py",
   "mimetype": "text/x-python",
   "name": "python",
   "nbconvert_exporter": "python",
   "pygments_lexer": "ipython3",
   "version": "3.10.7"
  },
  "orig_nbformat": 4
 },
 "nbformat": 4,
 "nbformat_minor": 2
}
